{
 "cells": [
  {
   "cell_type": "markdown",
   "metadata": {},
   "source": [
    "# Implementation of Deque\n",
    "In this lecture we will implement our own Deque class!\n",
    "\n",
    "## Methods and Attributes\n",
    "1. Deque() creates a new deque that is empty. It needs no parameters and returns an empty deque.\n",
    "2. addFront(item) adds a new item to the front of the deque. It needs the item and returns nothing.\n",
    "3. addRear(item) adds a new item to the rear of the deque. It needs the item and returns nothing.\n",
    "4. removeFront() removes the front item from the deque. It needs no parameters and returns the item. The deque is modified.\n",
    "5. removeRear() removes the rear item from the deque. It needs no parameters and returns the item. The deque is modified.\n",
    "6. isEmpty() tests to see whether the deque is empty. It needs no parameters and returns a boolean value.\n",
    "7. size() returns the number of items in the deque. It needs no parameters and returns an integer.  \n",
    "\n",
    "## Deque Implementation"
   ]
  },
  {
   "cell_type": "code",
   "execution_count": 126,
   "metadata": {
    "collapsed": true
   },
   "outputs": [],
   "source": [
    "class deque:\n",
    "    def __init__(self):\n",
    "        self.items = []\n",
    "    def isEmpty(self):\n",
    "        return self.items == []\n",
    "    def addFront(self,item):\n",
    "        self.items.append(item)\n",
    "    def addRear(self,item):\n",
    "        self.items.insert(0,item)\n",
    "    def removeFront(self):\n",
    "        return self.items.pop()\n",
    "    def removeRear(self):\n",
    "        return self.items.pop(0)\n",
    "    def show(self):\n",
    "        return self.items\n",
    "    def size(self):\n",
    "        return len(self.items)"
   ]
  },
  {
   "cell_type": "code",
   "execution_count": 127,
   "metadata": {
    "collapsed": true
   },
   "outputs": [],
   "source": [
    "d = deque()\n",
    "d.addFront('hello')"
   ]
  },
  {
   "cell_type": "code",
   "execution_count": 128,
   "metadata": {
    "collapsed": true
   },
   "outputs": [],
   "source": [
    "d.addRear('world')"
   ]
  },
  {
   "cell_type": "code",
   "execution_count": 129,
   "metadata": {},
   "outputs": [
    {
     "data": {
      "text/plain": [
       "['world', 'hello']"
      ]
     },
     "execution_count": 129,
     "metadata": {},
     "output_type": "execute_result"
    }
   ],
   "source": [
    "d.show()"
   ]
  },
  {
   "cell_type": "code",
   "execution_count": 130,
   "metadata": {},
   "outputs": [
    {
     "data": {
      "text/plain": [
       "2"
      ]
     },
     "execution_count": 130,
     "metadata": {},
     "output_type": "execute_result"
    }
   ],
   "source": [
    "d.size()"
   ]
  },
  {
   "cell_type": "code",
   "execution_count": 132,
   "metadata": {},
   "outputs": [
    {
     "name": "stdout",
     "output_type": "stream",
     "text": [
      "hello world\n"
     ]
    }
   ],
   "source": [
    "print(d.removeFront() + ' ' +  d.removeRear())"
   ]
  },
  {
   "cell_type": "code",
   "execution_count": 133,
   "metadata": {},
   "outputs": [
    {
     "data": {
      "text/plain": [
       "0"
      ]
     },
     "execution_count": 133,
     "metadata": {},
     "output_type": "execute_result"
    }
   ],
   "source": [
    "d.size()"
   ]
  },
  {
   "cell_type": "code",
   "execution_count": null,
   "metadata": {
    "collapsed": true
   },
   "outputs": [],
   "source": []
  }
 ],
 "metadata": {
  "kernelspec": {
   "display_name": "Python 3",
   "language": "python",
   "name": "python3"
  },
  "language_info": {
   "codemirror_mode": {
    "name": "ipython",
    "version": 3
   },
   "file_extension": ".py",
   "mimetype": "text/x-python",
   "name": "python",
   "nbconvert_exporter": "python",
   "pygments_lexer": "ipython3",
   "version": "3.6.3"
  }
 },
 "nbformat": 4,
 "nbformat_minor": 2
}
