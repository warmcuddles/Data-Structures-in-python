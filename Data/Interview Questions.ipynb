{
 "cells": [
  {
   "cell_type": "markdown",
   "metadata": {},
   "source": [
    "# Job Seeking Process\n",
    "![](job seeking process.JPG)  \n",
    "# Companies will look for\n",
    "![](company motive.JPG)  \n",
    "If you can code and answer whiteboard questions **effectively** You WIN  \n",
    "![](evaluating.JPG)  \n",
    "# Two Most common interview questions  \n",
    "Q1. WAP that prints no. from 1 to 100 but for multiple of 3 prints 'Fizz' instead of no. and for multiple of 5 prints 'Buzz' for no. which are multiples of both 3 and 5 prints 'FizzBuzz'"
   ]
  },
  {
   "cell_type": "code",
   "execution_count": 17,
   "metadata": {
    "scrolled": true
   },
   "outputs": [
    {
     "name": "stdout",
     "output_type": "stream",
     "text": [
      "Fizz Buzz Fizz Fizz Buzz Fizz FizzBuzz Fizz Buzz Fizz Fizz Buzz Fizz FizzBuzz Fizz Buzz Fizz Fizz Buzz Fizz FizzBuzz Fizz Buzz Fizz Fizz Buzz Fizz FizzBuzz Fizz Buzz Fizz Fizz Buzz Fizz FizzBuzz Fizz Buzz Fizz Fizz Buzz Fizz FizzBuzz Fizz Buzz Fizz Fizz Buzz "
     ]
    }
   ],
   "source": [
    "a = 'FizzBuzz'\n",
    "for i in range(1, 101):\n",
    "    if i%3 == 0 and i%5 == 0:\n",
    "        print(a, end = ' ')\n",
    "    elif i%3 == 0:\n",
    "        print(a[:4], end = ' ')\n",
    "    elif i%5 == 0:\n",
    "        print(a[4:], end = ' ')\n",
    "        "
   ]
  },
  {
   "cell_type": "markdown",
   "metadata": {},
   "source": [
    "** Why this question? it's and easy question but people still fail to do it in interviews because there's a little trick to it!**  \n",
    "Above solution is incorrect  \n",
    "Correct solution is below"
   ]
  },
  {
   "cell_type": "code",
   "execution_count": 18,
   "metadata": {},
   "outputs": [
    {
     "name": "stdout",
     "output_type": "stream",
     "text": [
      "1 2 Fizz 4 Buzz Fizz 7 8 Fizz Buzz 11 Fizz 13 14 FizzBuzz 16 17 Fizz 19 Buzz Fizz 22 23 Fizz Buzz 26 Fizz 28 29 FizzBuzz 31 32 Fizz 34 Buzz Fizz 37 38 Fizz Buzz 41 Fizz 43 44 FizzBuzz 46 47 Fizz 49 Buzz Fizz 52 53 Fizz Buzz 56 Fizz 58 59 FizzBuzz 61 62 Fizz 64 Buzz Fizz 67 68 Fizz Buzz 71 Fizz 73 74 FizzBuzz 76 77 Fizz 79 Buzz Fizz 82 83 Fizz Buzz 86 Fizz 88 89 FizzBuzz 91 92 Fizz 94 Buzz Fizz 97 98 Fizz Buzz "
     ]
    }
   ],
   "source": [
    "a = 'FizzBuzz'\n",
    "for i in range(1, 101):\n",
    "    if i%3 == 0 and i%5 == 0:\n",
    "        print(a, end = ' ')\n",
    "    elif i%3 == 0:\n",
    "        print(a[:4], end = ' ')\n",
    "    elif i%5 == 0:\n",
    "        print(a[4:], end = ' ')\n",
    "    else:\n",
    "        print(i, end = ' ')"
   ]
  },
  {
   "cell_type": "markdown",
   "metadata": {},
   "source": [
    "Q2. Print nth fibonacci no.  \n",
    "**In most cases Interviwer will  ask for recursive solution**"
   ]
  },
  {
   "cell_type": "code",
   "execution_count": 8,
   "metadata": {},
   "outputs": [
    {
     "name": "stdout",
     "output_type": "stream",
     "text": [
      "2\n"
     ]
    }
   ],
   "source": [
    "def fib(n):\n",
    "    if n <2:\n",
    "        return n\n",
    "    return fib(n-1) + fib(n-2)\n",
    "print(fib(3))"
   ]
  },
  {
   "cell_type": "code",
   "execution_count": null,
   "metadata": {},
   "outputs": [],
   "source": []
  }
 ],
 "metadata": {
  "kernelspec": {
   "display_name": "Python 3",
   "language": "python",
   "name": "python3"
  },
  "language_info": {
   "codemirror_mode": {
    "name": "ipython",
    "version": 3
   },
   "file_extension": ".py",
   "mimetype": "text/x-python",
   "name": "python",
   "nbconvert_exporter": "python",
   "pygments_lexer": "ipython3",
   "version": "3.6.3"
  }
 },
 "nbformat": 4,
 "nbformat_minor": 2
}
