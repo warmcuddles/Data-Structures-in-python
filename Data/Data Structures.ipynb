{
 "cells": [
  {
   "cell_type": "markdown",
   "metadata": {},
   "source": [
    "# Why we need DS?\n",
    "- To store data in efficient way  \n",
    "**We often have the intuition** -> if we want to make an algo fast, we need to optimize it  \n",
    "* Avoid nested loops\n",
    "* A good choice of data structure will boost up the algo  \n",
    "  \n",
    "  \n",
    "Examples:\n",
    "* A good Example is Facebook platform, the engineers have to use proper DS because 1B+ users are present on FB\n",
    "* Without proper DS running time for Dijkstra algo will be quadratic O(n^2)"
   ]
  },
  {
   "cell_type": "markdown",
   "metadata": {},
   "source": [
    "# Abstract Datatypes vs Data Structures"
   ]
  },
  {
   "cell_type": "markdown",
   "metadata": {},
   "source": [
    "### Abstract Datatypes\n",
    "* ADT is a type (or class) for objects whose behaviour is defined by a set of value and set of operations  \n",
    "* ADT is just a model, ADT does not specify the concrete implementation or programming language  \n",
    "* ADT only describe what operation to be performed but not how these will be performed and how it'll be organised in memory and what algo will be used for implementing the operations  \n",
    "* It's called <b><i>abstract</i></b> because it gives an implementation independent view  \n",
    "  \n",
    "Examples:  \n",
    "List ADT contains -> get(), insert(), remove(), size(), isEmpty() .....  \n",
    "Stack ADT contains -> pop(), peek(), .......  \n",
    "  \n",
    "   \n",
    "   \n",
    "### Data Structures\n",
    "* Concrete implementation, the actual representation of data.\n",
    "* Aim is to able to store and retrieve data in an eficient way.\n",
    "  \n",
    "Examples:  \n",
    "Arrays, Linked Lists, Binary Tree, ..... etc  \n",
    "![](ADT vs DS.JPG)"
   ]
  },
  {
   "cell_type": "markdown",
   "metadata": {},
   "source": [
    "### Low Level Computer Achitecture\n",
    "* Memory of a computer stored in bits\n",
    "* Typical unit is byte, which is 8 bits\n",
    "* Computers typically use a memory address\n",
    "* Each byte associated with unique address\n",
    "* Representation of computer memory individual bytes with consecutive addresses\n",
    "![](memory.JPG)\n",
    "* Any byte in computer can be accessed efficiently (Random Access)\n",
    "* Just as easy it is to retrieve byte #7854675 as it is to byte #576\n",
    "* Individual byte of Memory can be stored or retrieved in O(1) time\n",
    "* A group of related variables can be stored one after another in a contiguous portion of the computer's memory\n",
    "* We denote such a representation as array or list\n",
    "* A text string is stoed as an ordered sequence of individual characters.\n",
    "* Python internally represents each Unicode character with 16 bits (i.e. 2 bytes for each character)\n",
    "* Six-character string, such as 'SAMPLE' would be stored in 12 consecutive bytes of memory\n",
    "![](internal.JPG)\n",
    "* Each cell of an array uses same number of bytes.\n",
    "* Allows any cell to be accessed in constant time\n",
    "* Appropriate memory address can be computed using, **start + (cellsize)*(index)**"
   ]
  },
  {
   "cell_type": "markdown",
   "metadata": {},
   "source": [
    "### Referential Arrays\n",
    "* Imagine 10 different car company names with associated comp_id\n",
    "* You might be thinking using an array based structures to maintain the names of cars currently assigned to specific id \n",
    "* Note : Each cell of the array uses the same number of byte and yet the elements are the strings with different lengths, we could attempt to reserve enough space for each cell to hold the max length string but we would be using a lot of space\n",
    "* we can use an array of object references\n",
    "* Each elements is a reference to the object.\n",
    "![](ref1.JPG)\n",
    "* A single list instance may include multiple refrences to the same object as elements of the list.\n",
    "* Single object can be an element of 2 or more lists.\n",
    "![](ref2.JPG)\n",
    "```\n",
    "oldlist = [1, 2, 3, 4]\n",
    "newlist = oldlist[1:3]\n",
    "```\n",
    "* When computing slice of a list, the result is a new list instance.\n",
    "* New list has refrences to the same elements that are in original list  \n",
    "  \n",
    "**Caution :** What if we do some sort of reassignment to any of the list?  \n",
    "- If we change the value in either of list the only change that takes place is that position of list points to different object now and previous reference has been deleted for that particular list"
   ]
  },
  {
   "cell_type": "code",
   "execution_count": 60,
   "metadata": {},
   "outputs": [
    {
     "name": "stdout",
     "output_type": "stream",
     "text": [
      "[1, 2, 3, 4] [2, 3]\n",
      "[1, 2, 3, 4] [34, 3]\n",
      "[1, 2, 23, 4] [34, 3]\n"
     ]
    }
   ],
   "source": [
    "old = [1, 2, 3, 4]\n",
    "new = old[1:3]\n",
    "print(old, new)\n",
    "new[0] = 34\n",
    "print(old, new)\n",
    "old[2] = 23\n",
    "print(old, new)"
   ]
  },
  {
   "cell_type": "markdown",
   "metadata": {},
   "source": [
    "### Copying Arrays\n",
    "* ```backuplist = list(oldlist)```\n",
    "* This produces a new list that is a **shallow copy** in that it refrences the same elements as in first list.\n",
    "* if contents of the list were of mutable type, a **deep copy**, meaning a new list with new elements, can be produced by deepcopy function from copy module"
   ]
  },
  {
   "cell_type": "code",
   "execution_count": 1,
   "metadata": {},
   "outputs": [
    {
     "name": "stdout",
     "output_type": "stream",
     "text": [
      "[1, 2, 3, 4] [1, 2, 3, 4]\n",
      "['changed', 2, 3, 4] ['changed', 2, 3, 4]\n",
      "-----------------------\n",
      "[1, 2, 3, 4] [1, 2, 3, 4]\n",
      "[1, 2, 3, 4] ['changed', 2, 3, 4]\n"
     ]
    }
   ],
   "source": [
    "# Shallow copy\n",
    "a = [1, 2, 3, 4]\n",
    "b = a\n",
    "print(a, b)\n",
    "b[0] = 'changed'\n",
    "print(a, b)\n",
    "print('-----------------------')\n",
    "\n",
    "# Deep copy\n",
    "from copy import deepcopy\n",
    "a = [1, 2, 3, 4]\n",
    "b = deepcopy(a)\n",
    "print(a, b)\n",
    "b[0] = 'changed'\n",
    "print(a, b)"
   ]
  },
  {
   "cell_type": "markdown",
   "metadata": {},
   "source": [
    "### Dynamic Array\n",
    "A dynamic array is similar to an array, but with the difference that its size can be dynamically modified at runtime. Don’t need to specify how much large an array beforehand. The elements of an array occupy a contiguous block of memory, and once created, its size cannot be changed. A dynamic array can, once the array is filled, allocate a bigger chunk of memory, copy the contents from the original array to this new space, and continue to fill the available slots.\n",
    "\n",
    "\n",
    "We’ll be using a built in library called [ctypes](https://docs.python.org/2/library/ctypes.html) of python . Check out the documentation for more info, but its basically going to be used here as a raw array from the ctypes module.  \n",
    "  \n",
    "Python Lists are dynamic arrays \n",
    "* A List instance often has greater capacity than current length.\n",
    "* If elements keep getting appended, evwntually this extra space runs out.  \n",
    "**Simulation of lists**"
   ]
  },
  {
   "cell_type": "code",
   "execution_count": 4,
   "metadata": {},
   "outputs": [
    {
     "name": "stdout",
     "output_type": "stream",
     "text": [
      "Length of array : 0, Size in memory of whole array : 36\n",
      "Length of array : 1, Size in memory of whole array : 52\n",
      "Length of array : 2, Size in memory of whole array : 52\n",
      "Length of array : 3, Size in memory of whole array : 52\n",
      "Length of array : 4, Size in memory of whole array : 52\n",
      "Length of array : 5, Size in memory of whole array : 68\n",
      "Length of array : 6, Size in memory of whole array : 68\n",
      "Length of array : 7, Size in memory of whole array : 68\n",
      "Length of array : 8, Size in memory of whole array : 68\n",
      "Length of array : 9, Size in memory of whole array : 100\n"
     ]
    }
   ],
   "source": [
    "import sys \n",
    "# allows us to use getsize() which will let us know the actual size in bytes that computer holding in memory\n",
    "\n",
    "# set size = 10\n",
    "n = 10\n",
    "\n",
    "data = []\n",
    "\n",
    "for i in range(n):\n",
    "    # Number of elements\n",
    "    a = len(data)\n",
    "    \n",
    "    # Actual size in bytes\n",
    "    b = sys.getsizeof(data)\n",
    "    \n",
    "    print('Length of array : {}, Size in memory of whole array : {}'.format(a, b))\n",
    "    \n",
    "    # incresing length by one by appending 1 element each time\n",
    "    data.append(i)\n"
   ]
  },
  {
   "cell_type": "markdown",
   "metadata": {},
   "source": [
    "**So now Do you agree lists are dynamic arrays?**  \n",
    "### Implementing Dynamic Array\n",
    "* The key is to provide means to grow the array A that stores the elements of a list.\n",
    "* We can't actually grow that array, as it's capacity is fixed\n",
    "* If an element is appended to a list at a time when the underlying array is full, we'll need to perform following steps...\n",
    "1. Allocate a new array B with larger capacity (A commonly used rule for the new array is to have twice the capacity of the existing array )\n",
    "2. Set B[i]=A[i], for i=0 to n-1 where n denotes the current no of items.\n",
    "3. Set A=B that is, we hence forth use B as the array of supporting list.\n",
    "4. Insert new element in the new array.   \n",
    "\n",
    "<center>**a. Create new array 'B'**</center>\n",
    "![](ig1.JPG)\n",
    "<center><i>fig a</i></center>  \n",
    "  \n",
    "  \n",
    "<center>**b. Store element of A in B**</center>  \n",
    "![](ig2.JPG)  \n",
    "<center><i>fig b</i></center>  \n",
    "  \n",
    "  \n",
    "<center>**c. reassign reference A to new array**</center>  \n",
    "![](ig3.JPG)  \n",
    "<center><i>fig c</i></center>  \n",
    "  \n",
    "  \n",
    "  \n",
    "![](ammo2.JPG)"
   ]
  },
  {
   "cell_type": "code",
   "execution_count": 40,
   "metadata": {},
   "outputs": [],
   "source": [
    "import ctypes\n",
    "\n",
    "class DynamicArray(object):\n",
    "    '''\n",
    "    DYNAMIC ARRAY CLASS (Similar to Python List)\n",
    "    '''\n",
    "    \n",
    "    def __init__(self):\n",
    "        self.n = 0 # Count actual elements (Default is 0)\n",
    "        self.capacity = 1 # Default Capacity\n",
    "        self.A = self.make_array(self.capacity)  # make_array is method in this class\n",
    "        \n",
    "    def __len__(self):\n",
    "        \"\"\"\n",
    "        Return number of elements sorted in array\n",
    "        \"\"\"\n",
    "        return self.n\n",
    "    \n",
    "    def __getitem__(self,k):\n",
    "        \"\"\"\n",
    "        Return element at index k\n",
    "        \"\"\"\n",
    "        if not 0 <= k <self.n:\n",
    "            return IndexError('K is out of bounds!') # Check it k index is in bounds of array\n",
    "        \n",
    "        return self.A[k] #Retrieve from array at index k\n",
    "        \n",
    "    def append(self, ele):\n",
    "        \"\"\"\n",
    "        Add element to end of the array\n",
    "        \"\"\"\n",
    "        if self.n == self.capacity:\n",
    "            self._resize(2*self.capacity) #Double capacity if not enough room\n",
    "        \n",
    "        self.A[self.n] = ele #Set self.n index to element\n",
    "        self.n += 1\n",
    "        \n",
    "    def _resize(self,new_cap):\n",
    "        \"\"\"\n",
    "        Resize internal array to capacity new_cap\n",
    "        \"\"\"\n",
    "        \n",
    "        B = self.make_array(new_cap) # New bigger array\n",
    "        \n",
    "        for k in range(self.n): # Reference all existing values\n",
    "            B[k] = self.A[k]\n",
    "            \n",
    "        self.A = B # Call A the new bigger array\n",
    "        self.capacity = new_cap # Reset the capacity\n",
    "        \n",
    "    def make_array(self,new_cap):\n",
    "        \"\"\"\n",
    "        Returns a new array with new_cap capacity\n",
    "        \"\"\"\n",
    "        return (new_cap * ctypes.py_object)()\n",
    "    \n",
    "    def __display__(self):\n",
    "        li = []\n",
    "        for i in self.A[:-1]: # because of null object at end\n",
    "            li.append(i)\n",
    "        print(li)"
   ]
  },
  {
   "cell_type": "code",
   "execution_count": 41,
   "metadata": {
    "scrolled": true
   },
   "outputs": [
    {
     "name": "stdout",
     "output_type": "stream",
     "text": [
      "0\n",
      "1\n",
      "2\n",
      "3\n"
     ]
    }
   ],
   "source": [
    "arr = DynamicArray()\n",
    "print(len(arr))\n",
    "arr.append(45)\n",
    "print(len(arr))\n",
    "arr.append(73)\n",
    "print(len(arr))\n",
    "arr.append(46)\n",
    "print(len(arr))"
   ]
  },
  {
   "cell_type": "code",
   "execution_count": 42,
   "metadata": {
    "scrolled": true
   },
   "outputs": [
    {
     "name": "stdout",
     "output_type": "stream",
     "text": [
      "[45, 73, 46]\n"
     ]
    }
   ],
   "source": [
    "arr.__display__()"
   ]
  },
  {
   "cell_type": "markdown",
   "metadata": {},
   "source": [
    "### Amortization\n",
    "**Amortized analysis of dynamic arrays**\n",
    "* The strategy of replacing an array with new, larger array might at first seem slow\n",
    "* A single append operation may require O(n) time to perform \n",
    "* Our new arrays allows us to add n new elements before the array must be replaced again.\n",
    "* Using Algorithmic design pattern called **amortization**, we can show that performing a sequence of such append operations on dynamic array is actually quite efficient.\n",
    "![](ammo.JPG)  \n",
    "* For doubling array size primitive operations gonna be of O(n) Everything else will be of O(n)  \n",
    "**Amortized Analysiis**  \n",
    "![](ammo2.JPG)  \n",
    "\n",
    "|Item no|1|2|3|4|5|6|7|8|9|10|  \n",
    "|:------:|:------:|:------:|:------:|:------:|:------:|:------:|:------:|:------:|:------:|:------:|  \n",
    "|Table size|1|2|4|4|8|8|8|8|16|16|  \n",
    "|Cost|1|2|3|1|5|1|1|1|9|1|   \n",
    "  \n",
    "  \n",
    "  \n",
    "<center>Amortized Cost = $(1+2+3+1+5+1+1+1+9+1+...)/n$</center>\n",
    "<center>We can simplify above series by breaking terms 2, 3, 5, 9.. into as (1+1), (1+2), (1+4), (1+8)</center>\n",
    "<center>Amortized Cost = $[(1+1+1+...)+(1+2+3+4+8+...)]/n$</center>\n",
    "<center>Amortized Cost $< = [n + 2n]/n$</center>\n",
    "<center>Amortized Cost $< = 3$</center> \n",
    "<center>Amortized Cost = $O(1)$</center>"
   ]
  },
  {
   "cell_type": "markdown",
   "metadata": {},
   "source": [
    "### a. Arrays/ Lists\n",
    "* A continous collection of elements/ values each identified by an array index.  \n",
    "Characterstics :  \n",
    "* index starts at 0\n",
    "* because of the indexes RANDOM ACCESS to elements is possible  \n",
    "![1-D Array](array.JPG)  \n",
    "**Multi-Dimensional Arrays**  \n",
    "A representation of 2-D array 4x3 is given below  \n",
    "no. of rows = 4  \n",
    "no. of cols = 3  \n",
    "![](2darray.JPG)\n",
    "```\n",
    "array[row_index][col_index]\n",
    "array[1][2] = 67\n",
    "```  \n",
    "  \n",
    "**Properties :**  \n",
    "* Store items of same types (but in python lists can also store different types).\n",
    "* Array can have any no. of dimensions\n",
    "* Dynamic array: When size of array changes dynamically (in python lists are already implemented as dynamic arrays)  \n",
    "  \n",
    "**Applications :**  \n",
    "Look-up tables, Heaps etc  \n",
    "  \n",
    "**Advantages :**  \n",
    "* Access any random element of array with O(1) constant time : ```arr[index_value]``` returns the value at that index.\n",
    "* Very fast and easy to implement and understand  "
   ]
  },
  {
   "cell_type": "code",
   "execution_count": 23,
   "metadata": {},
   "outputs": [
    {
     "data": {
      "text/plain": [
       "32"
      ]
     },
     "execution_count": 23,
     "metadata": {},
     "output_type": "execute_result"
    }
   ],
   "source": [
    "arr = [14, 23, 32]\n",
    "arr[2]"
   ]
  },
  {
   "cell_type": "markdown",
   "metadata": {},
   "source": [
    "### a.1 Array Operations\n",
    "**Add**  \n",
    "\n",
    "* We can keep adding values to arrays as far as it's not full.\n",
    "Lets say we have an array of length 8 which can store 8 values, so we can only store 8 values inside it of same type  \n",
    "\n",
    "Now let's say we inserted 4 values inside array \n",
    "![](arr1.JPG)  \n",
    "For inserting elements at end takes O(1)   \n",
    "but what if we want to insert a element in between then it takes O(n)   \n",
    "because first we have to shift all the elemnts by 1 position to end suppose we want to insert element at index = 1 and the value to insert = 23   \n",
    "![](arr2.JPG)\n",
    "![](arr3.JPG)  \n",
    "Now let's suppose we want to insert a value at start of an array of 10000 len then first we have to shift 10000 with O(n) that's where Linked Lists comes in for rescue because LL solve this problem in O(1)  \n",
    "\n",
    "| Adding New Item | O(1) |  \n",
    "|:---------------:|:----:|  \n",
    "|Adding item at given index  | O(n) |  \n",
    "**Remove/ Delete**  \n",
    "We can remove last item from a list in O(1)  \n",
    "But to remove a value with a given index it takes O(n)  \n",
    "because we would need to shift the elemnts in upper direction to fill up the missing value because array is a continous data structure  \n",
    "  \n",
    "| Removing last Item | O(1) |   \n",
    "|:---------------:|:----:|   \n",
    "|Removing item at given index  | O(n) |  \n",
    "### Conclusion :\n",
    "If we want to remove items from end or add items at end then use arrays else use another DS"
   ]
  },
  {
   "cell_type": "code",
   "execution_count": 55,
   "metadata": {},
   "outputs": [
    {
     "name": "stdout",
     "output_type": "stream",
     "text": [
      "0 1 2 3 4 \n",
      "\n",
      "12 21 35 34 55 \n",
      "\n",
      "35\n",
      "[12, -10, 35, 34, 55]\n",
      "------------------------------------------------------------\n",
      "12 -10 35 34 55 \n",
      "\n",
      "12 -10 35 34 55\n",
      "------------------------------------------------------------\n",
      "0 1 2 3 4 \n",
      "\n",
      "0 12\n",
      "1 -10\n",
      "2 35\n",
      "3 34\n",
      "4 55\n",
      "\n",
      "\n",
      "[12, -10]\n",
      "[34, 55]\n",
      "[12, -10, 35]\n",
      "------------------------------------------------------------\n",
      "(Method 1) : Maximum Value is :  55\n",
      "\n",
      "(Method 2) : Maximum Value is :  55\n"
     ]
    }
   ],
   "source": [
    "# create 1-D array\n",
    "array1D = [12, 21, 35, 34, 55]\n",
    "\n",
    "# Checking index start value\n",
    "print(array1D.index(12), end = ' ')\n",
    "print(array1D.index(21), end = ' ')\n",
    "print(array1D.index(35), end = ' ')\n",
    "print(array1D.index(34), end = ' ')\n",
    "print(array1D.index(55), end = ' ')\n",
    "print('\\n')\n",
    "\n",
    "# Printing values corresponding to each indexes (Random Indexes)\n",
    "print(array1D[0], end = ' ')\n",
    "print(array1D[1], end = ' ')\n",
    "print(array1D[2], end = ' ')\n",
    "print(array1D[3], end = ' ')\n",
    "print(array1D[4], end = ' ')  \n",
    "print('\\n')\n",
    "\n",
    "# print 3rd item in array1D\n",
    "print(array1D[2])\n",
    "\n",
    "# Updating pre-existing values\n",
    "# update 2nd value of array as -10 : \n",
    "# 2nd value means index# 1\n",
    "array1D[1] = -10\n",
    "print(array1D)\n",
    "print('------------------------------------------------------------')\n",
    "\n",
    "# Iterating over each elements of array to print them\n",
    "# Method 1:\n",
    "for i in array1D:\n",
    "    print(i, end = ' ') # you can set end = '\\n' to get it in newlines which is default value for end\n",
    "print('\\n')\n",
    "\n",
    "# Method 2:\n",
    "print(*array1D)\n",
    "print('------------------------------------------------------------')\n",
    "\n",
    "# Iterating over array to print indices\n",
    "# Method 1:\n",
    "for i in range(0, len(array1D)):\n",
    "    print(i, end = ' ')\n",
    "print('\\n')\n",
    "\n",
    "# Method 2:\n",
    "for i, val in enumerate(array1D):\n",
    "    print(i, val, end = '\\n')\n",
    "print('\\n') \n",
    "\n",
    "# Printing first two item of a list : list slicing list[start:end:step] (specific to python)\n",
    "print(array1D[0: 2: 1])\n",
    "\n",
    "# Printing Last two items of a list negative indexing for array1D is [-5, -4, -3, -2, -1]\n",
    "print(array1D[-2: :1])\n",
    "\n",
    "# Print all items ecpet last two\n",
    "print(array1D[: -2])  #by default values for start = 0, end = lat val and step = 1\n",
    "print('------------------------------------------------------------')\n",
    "\n",
    "# Finding maximum in array O(n)\n",
    "# Method 1:\n",
    "maxi = array1D[0]\n",
    "for i in array1D:\n",
    "    if maxi < i:\n",
    "        maxi = i\n",
    "print('(Method 1) : Maximum Value is : ',maxi)\n",
    "print()\n",
    "# Method 2:\n",
    "print('(Method 2) : Maximum Value is : ', max(array1D))\n"
   ]
  },
  {
   "cell_type": "code",
   "execution_count": 59,
   "metadata": {
    "scrolled": true
   },
   "outputs": [
    {
     "name": "stdout",
     "output_type": "stream",
     "text": [
      "[1, 2, 3, 4] [2, 3]\n",
      "[1, 2, 3, 4] [34, 3]\n",
      "[1, 2, 23, 4] [34, 3]\n"
     ]
    }
   ],
   "source": [
    "old = [1, 2, 3, 4]\n",
    "new = old[1:3]\n",
    "print(old, new)\n",
    "new[0] = 34\n",
    "print(old, new)\n",
    "old[2] = 23\n",
    "print(old, new)"
   ]
  },
  {
   "attachments": {},
   "cell_type": "markdown",
   "metadata": {},
   "source": [
    "# Linked Lists\n",
    "* A linked list is a linear data structure, in which the elements are not stored at contiguous memory locations. The elements in a linked list are linked using pointers and the last block will point to a null.\n",
    "* In simple words, a linked list consists of nodes where each node contains a data field and a reference(link) to the next node in the list.\n",
    "![](ll.JPG)\n",
    "## Singly Linked Lists\n",
    "* A singly linked list, in its simplest form, is a collection of nodes that collectively form a linear sequence. \n",
    "* Each node stores a reference to an object that is an element of the sequence, as well as a reference to the next node of the list.\n",
    "* Example : Consider an airport codes\n",
    "![](air.JPG)\n",
    "* The list instance maintains a member named head that identifies the first node of the list. \n",
    "* In some applications another member named tail that identifies the last node of the list.\n",
    "* The first and last node of a linked list are known as the head and tail of the list.\n",
    "* We can identify the tail as the node having None as its next reference. \n",
    "* This process is commonly known as traversing the linked list.\n",
    "* Because the next reference of a node can be viewed as a link or pointer to another node, the process of traversing a list is also known as link hopping or pointer hopping!\n",
    "* "
   ]
  },
  {
   "cell_type": "code",
   "execution_count": null,
   "metadata": {},
   "outputs": [],
   "source": []
  },
  {
   "cell_type": "code",
   "execution_count": null,
   "metadata": {},
   "outputs": [],
   "source": []
  },
  {
   "cell_type": "code",
   "execution_count": null,
   "metadata": {},
   "outputs": [],
   "source": []
  },
  {
   "cell_type": "code",
   "execution_count": null,
   "metadata": {},
   "outputs": [],
   "source": []
  },
  {
   "cell_type": "code",
   "execution_count": null,
   "metadata": {},
   "outputs": [],
   "source": []
  },
  {
   "cell_type": "code",
   "execution_count": null,
   "metadata": {},
   "outputs": [],
   "source": []
  },
  {
   "cell_type": "code",
   "execution_count": null,
   "metadata": {},
   "outputs": [],
   "source": []
  },
  {
   "cell_type": "code",
   "execution_count": null,
   "metadata": {},
   "outputs": [],
   "source": []
  },
  {
   "cell_type": "code",
   "execution_count": null,
   "metadata": {},
   "outputs": [],
   "source": []
  },
  {
   "cell_type": "code",
   "execution_count": null,
   "metadata": {},
   "outputs": [],
   "source": []
  },
  {
   "cell_type": "code",
   "execution_count": null,
   "metadata": {},
   "outputs": [],
   "source": []
  },
  {
   "cell_type": "code",
   "execution_count": null,
   "metadata": {},
   "outputs": [],
   "source": []
  },
  {
   "cell_type": "code",
   "execution_count": null,
   "metadata": {},
   "outputs": [],
   "source": []
  },
  {
   "cell_type": "markdown",
   "metadata": {},
   "source": [
    "# Stack (LIFO)\n",
    "* Stack, Queues, Deques are **Linear Data structures** like array\n",
    "* They're very similar to arrays, but differ on how it add and remove items\n",
    "* *A stack is an ordered collection of items where the addition of new items and the removal of existing items always takes place at same end.*\n",
    "* This end is commonly referred as **top**.\n",
    "* The end opposite to top is known as **base**.  \n",
    "* Example : You can think of a stack as stack of books on a table, so the base of the stack is significant since items stored in the stack that are closer to the base represents those that have been in stack the longest.\n",
    "* The most recently addad item is the one that is in position to be removed first.\n",
    "* This ordering is sometimes called LIFO, last-in first-out.\n",
    "* It provides an ordering based on length of time in the collection.\n",
    "* Newer items are near the top, while older items are near the base.\n",
    "![](stack.JPG)  \n",
    "* Note how the first items \"Pushed\" to the stack begin at the base, and as items are \"popped\" out.\n",
    "* Stacks are fundamentally important, as they can be used to reverse the order of items.\n",
    "* The order of insertion is the reverse of the order of removal\n",
    "* Considering this reversal property, you can perhaps think of exammples of stacks that occur as you use your computer.\n",
    "* For example: Every web browser has a back button.\n",
    "* As you navigate from web page to webpage, those pages are placed on a stack(URL's)\n",
    "* The current page that you are viewing is on the top and hte first page you looked at is at the base.\n",
    "* If you click on back button, you begin to move in reverse order through the pages.\n",
    "### Implementing Stacks"
   ]
  },
  {
   "cell_type": "markdown",
   "metadata": {},
   "source": [
    "Stack Attributes and Methods\n",
    "Before we implement our own Stack class, let's review the properties and methods of a Stack.\n",
    "\n",
    "The stack abstract data type is defined by the following structure and operations. A stack is structured, as described above, as an ordered collection of items where items are added to and removed from the end called the “top.” Stacks are ordered LIFO. The stack operations are given below.\n",
    "\n",
    "* Stack() creates a new stack that is empty. It needs no parameters and returns an empty stack.\n",
    "* push(item) adds a new item to the top of the stack. It needs the item and returns nothing.\n",
    "* pop() removes the top item from the stack. It needs no parameters and returns the item. The stack is modified.\n",
    "* peek() returns the top item from the stack but does not remove it. It needs no parameters. The stack is not modified.\n",
    "* isEmpty() tests to see whether the stack is empty. It needs no parameters and returns a boolean value.\n",
    "* size() returns the number of items on the stack. It needs no parameters and returns an integer."
   ]
  },
  {
   "cell_type": "code",
   "execution_count": 1,
   "metadata": {},
   "outputs": [],
   "source": [
    "class Stack:\n",
    " \n",
    "    def __init__(self):\n",
    "        self.items = []\n",
    "\n",
    "    def isEmpty(self):\n",
    "        return self.items == []\n",
    "\n",
    "    def push(self, item):\n",
    "        self.items.append(item)\n",
    "\n",
    "    def pop(self):\n",
    "        return self.items.pop()\n",
    "\n",
    "    def peek(self):\n",
    "        return self.items[len(self.items)-1]\n",
    "\n",
    "    def size(self):\n",
    "        return len(self.items)"
   ]
  },
  {
   "cell_type": "code",
   "execution_count": 2,
   "metadata": {},
   "outputs": [],
   "source": [
    "s = Stack()"
   ]
  },
  {
   "cell_type": "code",
   "execution_count": 3,
   "metadata": {},
   "outputs": [
    {
     "data": {
      "text/plain": [
       "True"
      ]
     },
     "execution_count": 3,
     "metadata": {},
     "output_type": "execute_result"
    }
   ],
   "source": [
    "s.isEmpty()"
   ]
  },
  {
   "cell_type": "code",
   "execution_count": 4,
   "metadata": {},
   "outputs": [],
   "source": [
    "s.push('value')"
   ]
  },
  {
   "cell_type": "code",
   "execution_count": 5,
   "metadata": {},
   "outputs": [],
   "source": [
    "s.push(20)"
   ]
  },
  {
   "cell_type": "code",
   "execution_count": 6,
   "metadata": {},
   "outputs": [
    {
     "data": {
      "text/plain": [
       "False"
      ]
     },
     "execution_count": 6,
     "metadata": {},
     "output_type": "execute_result"
    }
   ],
   "source": [
    "s.isEmpty()"
   ]
  },
  {
   "cell_type": "code",
   "execution_count": 7,
   "metadata": {},
   "outputs": [
    {
     "data": {
      "text/plain": [
       "20"
      ]
     },
     "execution_count": 7,
     "metadata": {},
     "output_type": "execute_result"
    }
   ],
   "source": [
    "s.pop()"
   ]
  },
  {
   "cell_type": "code",
   "execution_count": 8,
   "metadata": {},
   "outputs": [
    {
     "data": {
      "text/plain": [
       "'value'"
      ]
     },
     "execution_count": 8,
     "metadata": {},
     "output_type": "execute_result"
    }
   ],
   "source": [
    "s.pop()"
   ]
  },
  {
   "cell_type": "code",
   "execution_count": 10,
   "metadata": {},
   "outputs": [
    {
     "data": {
      "text/plain": [
       "True"
      ]
     },
     "execution_count": 10,
     "metadata": {},
     "output_type": "execute_result"
    }
   ],
   "source": [
    "s.isEmpty()"
   ]
  },
  {
   "cell_type": "code",
   "execution_count": null,
   "metadata": {},
   "outputs": [],
   "source": []
  }
 ],
 "metadata": {
  "kernelspec": {
   "display_name": "Python 3",
   "language": "python",
   "name": "python3"
  },
  "language_info": {
   "codemirror_mode": {
    "name": "ipython",
    "version": 3
   },
   "file_extension": ".py",
   "mimetype": "text/x-python",
   "name": "python",
   "nbconvert_exporter": "python",
   "pygments_lexer": "ipython3",
   "version": "3.6.3"
  }
 },
 "nbformat": 4,
 "nbformat_minor": 2
}
